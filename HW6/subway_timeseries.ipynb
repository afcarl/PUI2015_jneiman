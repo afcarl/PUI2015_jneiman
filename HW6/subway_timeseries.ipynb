{
 "cells": [
  {
   "cell_type": "code",
   "execution_count": 1,
   "metadata": {
    "collapsed": false
   },
   "outputs": [
    {
     "name": "stdout",
     "output_type": "stream",
     "text": [
      "Populating the interactive namespace from numpy and matplotlib\n"
     ]
    }
   ],
   "source": [
    "%pylab inline"
   ]
  },
  {
   "cell_type": "code",
   "execution_count": 35,
   "metadata": {
    "collapsed": true
   },
   "outputs": [],
   "source": [
    "import numpy as np\n",
    "import pylab as pl\n",
    "pl.style.use('fivethirtyeight')\n",
    "import datetime"
   ]
  },
  {
   "cell_type": "code",
   "execution_count": 4,
   "metadata": {
    "collapsed": false
   },
   "outputs": [],
   "source": [
    "data = np.load('MTA_Fare.npy')"
   ]
  },
  {
   "cell_type": "code",
   "execution_count": 5,
   "metadata": {
    "collapsed": false
   },
   "outputs": [
    {
     "data": {
      "text/plain": [
       "(600, 23, 194)"
      ]
     },
     "execution_count": 5,
     "metadata": {},
     "output_type": "execute_result"
    }
   ],
   "source": [
    "data.shape"
   ]
  },
  {
   "cell_type": "code",
   "execution_count": 10,
   "metadata": {
    "collapsed": false
   },
   "outputs": [
    {
     "data": {
      "text/plain": [
       "array([[  1.91574617e+04,   2.08778667e+04,   2.12774833e+04, ...,\n",
       "          2.19824533e+04,   2.08343650e+04,   2.07663483e+04],\n",
       "       [  8.83976667e+02,   9.72323333e+02,   9.76761667e+02, ...,\n",
       "          1.15832667e+03,   1.11681833e+03,   1.13226500e+03],\n",
       "       [  7.94383333e+01,   8.55783333e+01,   8.58316667e+01, ...,\n",
       "          9.77216667e+01,   9.39800000e+01,   9.17566667e+01],\n",
       "       ..., \n",
       "       [  9.98333333e+00,   9.96833333e+00,   1.05883333e+01, ...,\n",
       "          8.76666667e+00,   9.37000000e+00,   1.00766667e+01],\n",
       "       [  3.66666667e-01,   5.58333333e-01,   5.46666667e-01, ...,\n",
       "          1.20666667e+00,   1.12166667e+00,   1.13666667e+00],\n",
       "       [ -1.00000000e+00,  -1.00000000e+00,  -1.00000000e+00, ...,\n",
       "          1.88764167e+03,   2.29877667e+03,   8.91466667e+02]])"
      ]
     },
     "execution_count": 10,
     "metadata": {},
     "output_type": "execute_result"
    }
   ],
   "source": [
    "np.nanmean(data, axis=0)"
   ]
  },
  {
   "cell_type": "code",
   "execution_count": 22,
   "metadata": {
    "collapsed": false
   },
   "outputs": [],
   "source": [
    "weeklysums = np.nansum(data, axis=(0,1))"
   ]
  },
  {
   "cell_type": "code",
   "execution_count": 25,
   "metadata": {
    "collapsed": false
   },
   "outputs": [],
   "source": [
    "deviations = 3\n",
    "thresh = [weeklysums.mean() - deviations*weeklysums.std(), weeklysums.mean() + deviations*weeklysums.std()]"
   ]
  },
  {
   "cell_type": "code",
   "execution_count": 34,
   "metadata": {
    "collapsed": false
   },
   "outputs": [],
   "source": [
    "week = np.where((weeklysums<thresh[0])|(weeklysums>thresh[1]))[0][0]"
   ]
  },
  {
   "cell_type": "code",
   "execution_count": 38,
   "metadata": {
    "collapsed": false
   },
   "outputs": [
    {
     "name": "stdout",
     "output_type": "stream",
     "text": [
      "2012-10-19\n"
     ]
    }
   ],
   "source": [
    "print datetime.date(year=2010, month=5, day=21) + datetime.timedelta(weeks=week)"
   ]
  },
  {
   "cell_type": "markdown",
   "metadata": {},
   "source": [
    "The event is Hurricane Sandy."
   ]
  },
  {
   "cell_type": "code",
   "execution_count": 45,
   "metadata": {
    "collapsed": false
   },
   "outputs": [],
   "source": [
    "ridetype_sums = np.nansum(data, axis=0)"
   ]
  },
  {
   "cell_type": "code",
   "execution_count": 46,
   "metadata": {
    "collapsed": true
   },
   "outputs": [],
   "source": [
    "ridetype = np.array(['10t', '14d', '1d', '2t', '30d', '7d', 'ada', 'afas', 'exp','ez',\n",
    "            'ff','mc','mr','month','rfm','rr','sen','spec','tcmc','t',\n",
    "            'umlim','xbus','stud'])"
   ]
  },
  {
   "cell_type": "code",
   "execution_count": null,
   "metadata": {
    "collapsed": true
   },
   "outputs": [],
   "source": []
  }
 ],
 "metadata": {
  "kernelspec": {
   "display_name": "Python 2",
   "language": "python",
   "name": "python2"
  },
  "language_info": {
   "codemirror_mode": {
    "name": "ipython",
    "version": 2
   },
   "file_extension": ".py",
   "mimetype": "text/x-python",
   "name": "python",
   "nbconvert_exporter": "python",
   "pygments_lexer": "ipython2",
   "version": "2.7.10"
  }
 },
 "nbformat": 4,
 "nbformat_minor": 0
}
