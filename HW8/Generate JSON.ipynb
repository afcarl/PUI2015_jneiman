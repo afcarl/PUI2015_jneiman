{
 "cells": [
  {
   "cell_type": "code",
   "execution_count": 1,
   "metadata": {
    "collapsed": false
   },
   "outputs": [
    {
     "name": "stdout",
     "output_type": "stream",
     "text": [
      "Populating the interactive namespace from numpy and matplotlib\n"
     ]
    }
   ],
   "source": [
    "%pylab inline"
   ]
  },
  {
   "cell_type": "code",
   "execution_count": 5,
   "metadata": {
    "collapsed": true
   },
   "outputs": [],
   "source": [
    "import numpy as np\n",
    "import pylab as pl\n",
    "pl.style.use('fivethirtyeight')\n",
    "import datetime\n",
    "import json\n",
    "import pandas as pd"
   ]
  },
  {
   "cell_type": "code",
   "execution_count": 6,
   "metadata": {
    "collapsed": false
   },
   "outputs": [
    {
     "name": "stderr",
     "output_type": "stream",
     "text": [
      "c:\\Users\\Jeremy\\Anaconda\\lib\\site-packages\\pandas\\io\\parsers.py:1170: DtypeWarning: Columns (6,7,8,10,27,50,52,53,77,79) have mixed types. Specify dtype option on import or set low_memory=False.\n",
      "  data = self._reader.read(nrows)\n"
     ]
    }
   ],
   "source": [
    "csv = pd.read_csv('BK.csv')"
   ]
  },
  {
   "cell_type": "code",
   "execution_count": 8,
   "metadata": {
    "collapsed": false
   },
   "outputs": [
    {
     "data": {
      "text/plain": [
       "Index([u'Borough', u'Block', u'Lot', u'CD', u'CT2010', u'CB2010',\n",
       "       u'SchoolDist', u'Council', u'ZipCode', u'FireComp', u'PolicePrct',\n",
       "       u'HealthArea', u'Address', u'ZoneDist1', u'ZoneDist2', u'ZoneDist3',\n",
       "       u'ZoneDist4', u'Overlay1', u'Overlay2', u'SPDist1', u'SPDist2',\n",
       "       u'LtdHeight', u'AllZoning1', u'AllZoning2', u'SplitZone', u'BldgClass',\n",
       "       u'LandUse', u'Easements', u'OwnerType', u'OwnerName', u'LotArea',\n",
       "       u'BldgArea', u'ComArea', u'ResArea', u'OfficeArea', u'RetailArea',\n",
       "       u'GarageArea', u'StrgeArea', u'FactryArea', u'OtherArea', u'AreaSource',\n",
       "       u'NumBldgs', u'NumFloors', u'UnitsRes', u'UnitsTotal', u'LotFront',\n",
       "       u'LotDepth', u'BldgFront', u'BldgDepth', u'Ext', u'ProxCode',\n",
       "       u'IrrLotCode', u'LotType', u'BsmtCode', u'AssessLand', u'AssessTot',\n",
       "       u'ExemptLand', u'ExemptTot', u'YearBuilt', u'BuiltCode', u'YearAlter1',\n",
       "       u'YearAlter2', u'HistDist', u'Landmark', u'BuiltFAR', u'ResidFAR',\n",
       "       u'CommFAR', u'FacilFAR', u'BoroCode', u'BBL', u'CondoNo', u'Tract2010',\n",
       "       u'XCoord', u'YCoord', u'ZoneMap', u'ZMCode', u'Sanborn', u'TaxMap',\n",
       "       u'EDesigNum', u'APPBBL', u'APPDate', u'PLUTOMapID', u'Version'],\n",
       "      dtype='object')"
      ]
     },
     "execution_count": 8,
     "metadata": {},
     "output_type": "execute_result"
    }
   ],
   "source": [
    "csv.columns"
   ]
  },
  {
   "cell_type": "code",
   "execution_count": 42,
   "metadata": {
    "collapsed": true
   },
   "outputs": [],
   "source": [
    "codes = {\n",
    "    '1': 'One & Two Family Buildings',\n",
    "    '2': 'Multi-Family Walk-Up Buildings',\n",
    "    '3': 'Multi-Family Elevator Buildings',\n",
    "    '4': 'Mixed Residential & Commercial Buildings',\n",
    "    '5': 'Commercial & Office Buildings',\n",
    "    '6': 'Industrial & Manufacturing Buildings',\n",
    "    '7': 'Transportation & Utility',\n",
    "    '8': 'Public Facilities & Institutions',\n",
    "    '9': 'Open Space & Outdoor Recreation',\n",
    "    '10': 'Parking Facilities',\n",
    "    '11': 'Vacant Land'\n",
    "}"
   ]
  },
  {
   "cell_type": "code",
   "execution_count": 43,
   "metadata": {
    "collapsed": true
   },
   "outputs": [],
   "source": []
  },
  {
   "cell_type": "code",
   "execution_count": 47,
   "metadata": {
    "collapsed": false
   },
   "outputs": [],
   "source": [
    "d = {\n",
    "    'name': 'New York City',\n",
    "    'children': []\n",
    "}\n",
    "\n",
    "for f,n in [('BK.csv', 'Brooklyn'), ('BX.csv', 'Bronx'), ('Mn.csv', 'Manhattan'), ('QN.csv', 'Queens'), ('SI.csv', 'Staten Island')]:\n",
    "    csv = pd.read_csv(f)\n",
    "    \n",
    "    groups = csv.groupby('LandUse')\n",
    "    b = {'name': n, 'children': []}\n",
    "    \n",
    "    for g in codes:\n",
    "        b['children'].append({\n",
    "            'name': codes[g],\n",
    "            'size': int(groups.get_group(g).count()['Lot'])\n",
    "        })\n",
    "        \n",
    "    d['children'].append(b)\n",
    "    "
   ]
  },
  {
   "cell_type": "code",
   "execution_count": 48,
   "metadata": {
    "collapsed": false
   },
   "outputs": [
    {
     "data": {
      "text/plain": [
       "{'children': [{'children': [{'name': 'Vacant Land', 'size': 7146},\n",
       "    {'name': 'Parking Facilities', 'size': 3966},\n",
       "    {'name': 'One & Two Family Buildings', 'size': 156711},\n",
       "    {'name': 'Multi-Family Elevator Buildings', 'size': 3277},\n",
       "    {'name': 'Multi-Family Walk-Up Buildings', 'size': 64363},\n",
       "    {'name': 'Commercial & Office Buildings', 'size': 5909},\n",
       "    {'name': 'Mixed Residential & Commercial Buildings', 'size': 23007},\n",
       "    {'name': 'Transportation & Utility', 'size': 1867},\n",
       "    {'name': 'Industrial & Manufacturing Buildings', 'size': 4815},\n",
       "    {'name': 'Open Space & Outdoor Recreation', 'size': 917},\n",
       "    {'name': 'Public Facilities & Institutions', 'size': 4317}],\n",
       "   'name': 'Brooklyn'},\n",
       "  {'children': [{'name': 'Vacant Land', 'size': 4184},\n",
       "    {'name': 'Parking Facilities', 'size': 2115},\n",
       "    {'name': 'One & Two Family Buildings', 'size': 51654},\n",
       "    {'name': 'Multi-Family Elevator Buildings', 'size': 2115},\n",
       "    {'name': 'Multi-Family Walk-Up Buildings', 'size': 17579},\n",
       "    {'name': 'Commercial & Office Buildings', 'size': 3027},\n",
       "    {'name': 'Mixed Residential & Commercial Buildings', 'size': 3825},\n",
       "    {'name': 'Transportation & Utility', 'size': 1066},\n",
       "    {'name': 'Industrial & Manufacturing Buildings', 'size': 1374},\n",
       "    {'name': 'Open Space & Outdoor Recreation', 'size': 690},\n",
       "    {'name': 'Public Facilities & Institutions', 'size': 1895}],\n",
       "   'name': 'Bronx'},\n",
       "  {'children': [{'name': 'Vacant Land', 'size': 1292},\n",
       "    {'name': 'Parking Facilities', 'size': 712},\n",
       "    {'name': 'One & Two Family Buildings', 'size': 3897},\n",
       "    {'name': 'Multi-Family Elevator Buildings', 'size': 5039},\n",
       "    {'name': 'Multi-Family Walk-Up Buildings', 'size': 11907},\n",
       "    {'name': 'Commercial & Office Buildings', 'size': 4634},\n",
       "    {'name': 'Mixed Residential & Commercial Buildings', 'size': 11240},\n",
       "    {'name': 'Transportation & Utility', 'size': 493},\n",
       "    {'name': 'Industrial & Manufacturing Buildings', 'size': 947},\n",
       "    {'name': 'Open Space & Outdoor Recreation', 'size': 399},\n",
       "    {'name': 'Public Facilities & Institutions', 'size': 2500}],\n",
       "   'name': 'Manhattan'},\n",
       "  {'children': [{'name': 'Vacant Land', 'size': 8407},\n",
       "    {'name': 'Parking Facilities', 'size': 4192},\n",
       "    {'name': 'One & Two Family Buildings', 'size': 246826},\n",
       "    {'name': 'Multi-Family Elevator Buildings', 'size': 1856},\n",
       "    {'name': 'Multi-Family Walk-Up Buildings', 'size': 35004},\n",
       "    {'name': 'Commercial & Office Buildings', 'size': 6501},\n",
       "    {'name': 'Mixed Residential & Commercial Buildings', 'size': 11872},\n",
       "    {'name': 'Transportation & Utility', 'size': 1520},\n",
       "    {'name': 'Industrial & Manufacturing Buildings', 'size': 3747},\n",
       "    {'name': 'Open Space & Outdoor Recreation', 'size': 1144},\n",
       "    {'name': 'Public Facilities & Institutions', 'size': 2827}],\n",
       "   'name': 'Queens'},\n",
       "  {'children': [{'name': 'Vacant Land', 'size': 7370},\n",
       "    {'name': 'Parking Facilities', 'size': 779},\n",
       "    {'name': 'One & Two Family Buildings', 'size': 106119},\n",
       "    {'name': 'Multi-Family Elevator Buildings', 'size': 87},\n",
       "    {'name': 'Multi-Family Walk-Up Buildings', 'size': 1853},\n",
       "    {'name': 'Commercial & Office Buildings', 'size': 2138},\n",
       "    {'name': 'Mixed Residential & Commercial Buildings', 'size': 1503},\n",
       "    {'name': 'Transportation & Utility', 'size': 751},\n",
       "    {'name': 'Industrial & Manufacturing Buildings', 'size': 445},\n",
       "    {'name': 'Open Space & Outdoor Recreation', 'size': 1887},\n",
       "    {'name': 'Public Facilities & Institutions', 'size': 696}],\n",
       "   'name': 'Staten Island'}],\n",
       " 'name': 'New York City'}"
      ]
     },
     "execution_count": 48,
     "metadata": {},
     "output_type": "execute_result"
    }
   ],
   "source": [
    "d"
   ]
  },
  {
   "cell_type": "code",
   "execution_count": 49,
   "metadata": {
    "collapsed": false
   },
   "outputs": [],
   "source": [
    "with open('nyc.json', 'w') as outfile:\n",
    "    json.dump(d, outfile)"
   ]
  },
  {
   "cell_type": "code",
   "execution_count": null,
   "metadata": {
    "collapsed": true
   },
   "outputs": [],
   "source": []
  }
 ],
 "metadata": {
  "kernelspec": {
   "display_name": "Python 2",
   "language": "python",
   "name": "python2"
  },
  "language_info": {
   "codemirror_mode": {
    "name": "ipython",
    "version": 2
   },
   "file_extension": ".py",
   "mimetype": "text/x-python",
   "name": "python",
   "nbconvert_exporter": "python",
   "pygments_lexer": "ipython2",
   "version": "2.7.10"
  }
 },
 "nbformat": 4,
 "nbformat_minor": 0
}
