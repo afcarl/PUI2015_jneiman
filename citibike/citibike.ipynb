{
 "cells": [
  {
   "cell_type": "code",
   "execution_count": 47,
   "metadata": {
    "collapsed": true
   },
   "outputs": [],
   "source": [
    "import pandas as pd\n",
    "from zipfile import ZipFile\n",
    "from StringIO import StringIO\n",
    "import urllib2\n",
    "import numpy as np\n",
    "import datetime\n",
    "from scipy.stats import chisquare"
   ]
  },
  {
   "cell_type": "code",
   "execution_count": 1,
   "metadata": {
    "collapsed": false
   },
   "outputs": [],
   "source": [
    "ride_frames = []\n",
    "\n",
    "months = ['04']#['01', '02', '03', '04', '05', '06']\n",
    "for month in months:\n",
    "    url = \"https://s3.amazonaws.com/tripdata/2015%s-citibike-tripdata.zip\" % month\n",
    "    r = urllib2.urlopen(url).read()\n",
    "    f = ZipFile(StringIO(r))\n",
    "    csv = f.open(\"2015%s-citibike-tripdata.csv\" % month)\n",
    "    frame = pd.read_csv(csv, parse_dates=['starttime'])\n",
    "    ride_frames.append(frame)\n",
    "    \n",
    "rides = pd.concat(ride_frames, ignore_index=True)"
   ]
  },
  {
   "cell_type": "code",
   "execution_count": 29,
   "metadata": {
    "collapsed": false
   },
   "outputs": [],
   "source": [
    "rides['day'] = rides['starttime'].dt.dayofweek\n",
    "rides['date'] = rides['starttime'].dt.dayofyear\n",
    "weekends = rides[(rides.day == 5) | (rides.day == 6)] \n",
    "weekdays = rides[(rides.day != 5) & (rides.day != 6)]"
   ]
  },
  {
   "cell_type": "code",
   "execution_count": 35,
   "metadata": {
    "collapsed": false
   },
   "outputs": [],
   "source": [
    "num_weekends = len(np.unique(weekends['date']))\n",
    "num_weekdays = len(np.unique(weekdays['date']))"
   ]
  },
  {
   "cell_type": "code",
   "execution_count": 36,
   "metadata": {
    "collapsed": false
   },
   "outputs": [],
   "source": [
    "custWknds = float(len(weekends[weekends.usertype == 'Customer']))/num_weekends\n",
    "subWknds = float(len(weekends[weekends.usertype == 'Subscriber']))/num_weekends\n",
    "custWkday = float(len(weekdays[weekdays.usertype == 'Customer']))/num_weekdays\n",
    "subWkday = float(len(weekdays[weekdays.usertype == 'Subscriber']))/num_weekdays"
   ]
  },
  {
   "cell_type": "code",
   "execution_count": 37,
   "metadata": {
    "collapsed": false
   },
   "outputs": [
    {
     "name": "stdout",
     "output_type": "stream",
     "text": [
      "Weekend customer rides = 4315.88\n",
      "Weekend subscriber rides = 15568.62\n",
      "Weekend subscriber: weekend customer ratio = 3.61\n",
      "Weekday customer rides = 1440.27\n",
      "Weekday subscriber rides = 20983.09\n",
      "Weekday subscriber: weekday customer ratio = 14.57\n"
     ]
    }
   ],
   "source": [
    "print 'Weekend customer rides = %.2f' % (custWknds)\n",
    "print 'Weekend subscriber rides = %.2f' % (subWknds)\n",
    "print \"Weekend subscriber: weekend customer ratio = %.2f\" % (subWknds/custWknds)\n",
    "print 'Weekday customer rides = %.2f' % (custWkday)\n",
    "print 'Weekday subscriber rides = %.2f' % (subWkday)\n",
    "print \"Weekday subscriber: weekday customer ratio = %.2f\" % (subWkday/custWkday)"
   ]
  },
  {
   "cell_type": "code",
   "execution_count": 41,
   "metadata": {
    "collapsed": false
   },
   "outputs": [
    {
     "name": "stdout",
     "output_type": "stream",
     "text": [
      "% of Rides that are customers on weekends = 0.22\n",
      "% of Rides that are customers on weekdays = 0.06\n"
     ]
    }
   ],
   "source": [
    "print '%% of Rides that are customers on weekends = %.2f' % (custWknds/(custWknds + subWknds))\n",
    "print '%% of Rides that are customers on weekdays = %.2f' % (custWkday/(custWkday + subWkday))"
   ]
  },
  {
   "cell_type": "code",
   "execution_count": 42,
   "metadata": {
    "collapsed": false
   },
   "outputs": [
    {
     "name": "stdout",
     "output_type": "stream",
     "text": [
      "19884.5\n",
      "22423.3636364\n"
     ]
    }
   ],
   "source": [
    "print custWknds + subWknds\n",
    "print custWkday + subWkday"
   ]
  },
  {
   "cell_type": "code",
   "execution_count": 45,
   "metadata": {
    "collapsed": false
   },
   "outputs": [
    {
     "name": "stdout",
     "output_type": "stream",
     "text": [
      "5756.14772727\n",
      "36551.7159091\n"
     ]
    }
   ],
   "source": [
    "print custWknds + custWkday\n",
    "print subWknds + subWkday"
   ]
  },
  {
   "cell_type": "code",
   "execution_count": 44,
   "metadata": {
    "collapsed": false
   },
   "outputs": [
    {
     "name": "stdout",
     "output_type": "stream",
     "text": [
      "36893.3977273\n"
     ]
    }
   ],
   "source": [
    "print subWknds + subWknds + custWknds + custWkday"
   ]
  },
  {
   "cell_type": "code",
   "execution_count": 46,
   "metadata": {
    "collapsed": false
   },
   "outputs": [
    {
     "name": "stdout",
     "output_type": "stream",
     "text": [
      "1825.85275292\n"
     ]
    }
   ],
   "source": [
    "Ntot = 36893.3977273\n",
    "expected = 5756.14772727*36551.71*22423.3636364*19884.5\n",
    "sample_values = [[1440.27, 20983.09],[4315.88,15568.62]]\n",
    " \n",
    "chisqstat= lambda N, values, expect : N*((values[0][0]*values[1][1]-values[0][1]*values[1][0])**2)/(expect)\n",
    "\n",
    "print chisqstat(Ntot,  sample_values, expected)"
   ]
  },
  {
   "cell_type": "code",
   "execution_count": 48,
   "metadata": {
    "collapsed": false
   },
   "outputs": [
    {
     "data": {
      "text/plain": [
       "(array([ 1436.57355561,   802.05509895]),\n",
       " array([  0.00000000e+000,   1.92861851e-176]))"
      ]
     },
     "execution_count": 48,
     "metadata": {},
     "output_type": "execute_result"
    }
   ],
   "source": [
    "chisquare(sample_values)"
   ]
  },
  {
   "cell_type": "code",
   "execution_count": 53,
   "metadata": {
    "collapsed": false
   },
   "outputs": [
    {
     "data": {
      "text/plain": [
       "(4266.666666666667, 0.0)"
      ]
     },
     "execution_count": 53,
     "metadata": {},
     "output_type": "execute_result"
    }
   ],
   "source": [
    "chisquare([600, 2200], [600, 600])"
   ]
  },
  {
   "cell_type": "code",
   "execution_count": 56,
   "metadata": {
    "collapsed": false
   },
   "outputs": [
    {
     "data": {
      "text/plain": [
       "(8173.8224044691442, 0.0)"
      ]
     },
     "execution_count": 56,
     "metadata": {},
     "output_type": "execute_result"
    }
   ],
   "source": [
    "chisquare([1440.27, 4315.88], [1440.27, 19884.5*.06])"
   ]
  },
  {
   "cell_type": "code",
   "execution_count": 76,
   "metadata": {
    "collapsed": false
   },
   "outputs": [
    {
     "data": {
      "text/plain": [
       "(7229.5300960536615, 0.0)"
      ]
     },
     "execution_count": 76,
     "metadata": {},
     "output_type": "execute_result"
    }
   ],
   "source": [
    "# Test whether the total customers on weekends is different than weekday\n",
    "# The expected value for the weekday is the weekday count and the expected value for the weekend is\n",
    "# The proportion of customers on weekdays times the total number of rides on weekends.\n",
    "totalWknds = custWknds + subWknds\n",
    "totalWkday = custWkday + subWkday\n",
    "custWkdayPercent = custWkday/totalWkday\n",
    "expected = [custWkday, totalWknds*custWkdayPercent]\n",
    "sample = [custWkday, custWknds]\n",
    "#sample = [custWkday, 1275]\n",
    "chisquare(sample, expected)"
   ]
  },
  {
   "cell_type": "code",
   "execution_count": 72,
   "metadata": {
    "collapsed": false
   },
   "outputs": [
    {
     "data": {
      "text/plain": [
       "(0.0, 1.0)"
      ]
     },
     "execution_count": 72,
     "metadata": {},
     "output_type": "execute_result"
    }
   ],
   "source": [
    "chisquare([1440.27, 4315.88], [1440.27, 4315.88])"
   ]
  },
  {
   "cell_type": "code",
   "execution_count": 69,
   "metadata": {
    "collapsed": false
   },
   "outputs": [
    {
     "name": "stdout",
     "output_type": "stream",
     "text": [
      "1193.07\n"
     ]
    }
   ],
   "source": [
    "print 19884.5*.06"
   ]
  },
  {
   "cell_type": "code",
   "execution_count": null,
   "metadata": {
    "collapsed": true
   },
   "outputs": [],
   "source": []
  }
 ],
 "metadata": {
  "kernelspec": {
   "display_name": "Python 2",
   "language": "python",
   "name": "python2"
  },
  "language_info": {
   "codemirror_mode": {
    "name": "ipython",
    "version": 2
   },
   "file_extension": ".py",
   "mimetype": "text/x-python",
   "name": "python",
   "nbconvert_exporter": "python",
   "pygments_lexer": "ipython2",
   "version": "2.7.10"
  }
 },
 "nbformat": 4,
 "nbformat_minor": 0
}
